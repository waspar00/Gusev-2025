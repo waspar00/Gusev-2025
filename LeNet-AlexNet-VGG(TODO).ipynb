{
  "nbformat": 4,
  "nbformat_minor": 0,
  "metadata": {
    "colab": {
      "provenance": [],
      "authorship_tag": "ABX9TyMlm7+6xoVoGe3Nx4tGAH85",
      "include_colab_link": true
    },
    "kernelspec": {
      "name": "python3",
      "display_name": "Python 3"
    },
    "language_info": {
      "name": "python"
    }
  },
  "cells": [
    {
      "cell_type": "markdown",
      "metadata": {
        "id": "view-in-github",
        "colab_type": "text"
      },
      "source": [
        "<a href=\"https://colab.research.google.com/github/waspar00/Gusev-2025/blob/main/LeNet-AlexNet-VGG(TODO).ipynb\" target=\"_parent\"><img src=\"https://colab.research.google.com/assets/colab-badge.svg\" alt=\"Open In Colab\"/></a>"
      ]
    },
    {
      "cell_type": "code",
      "execution_count": 6,
      "metadata": {
        "id": "iSlSnjxa4bWm"
      },
      "outputs": [],
      "source": [
        "import torch\n",
        "import torch.nn as nn\n",
        "import torch.optim as optim\n",
        "import torch.nn.functional as F\n",
        "import torchvision\n",
        "import torchvision.transforms as transforms\n",
        "from sklearn.metrics import f1_score, accuracy_score\n",
        "#determining the device type\n",
        "device = torch.device(\"cuda\" if torch.cuda.is_available() else \"cpu\")"
      ]
    },
    {
      "cell_type": "code",
      "source": [
        "#defining training and evaluation procedures\n",
        "def train_model(model, trainloader, criterion, optimizer, num_epochs=10):\n",
        "    model.train()\n",
        "    for epoch in range(num_epochs):\n",
        "        running_loss = 0.0\n",
        "        for i, data in enumerate(trainloader, 0):\n",
        "            inputs, labels = data\n",
        "            inputs, labels = inputs.to(device), labels.to(device)\n",
        "            optimizer.zero_grad()\n",
        "            outputs = model(inputs)\n",
        "            loss = criterion(outputs, labels)\n",
        "            loss.backward()\n",
        "            optimizer.step()\n",
        "            running_loss += loss.item()\n",
        "            if i % 100 == 99 and (epoch + 1) % 5 == 0:\n",
        "                print(f'[E- {epoch + 1}, B- {i + 1}] loss: {running_loss / 100:.3f}')\n",
        "                running_loss = 0.0\n",
        "    print('Done')\n",
        "\n",
        "def evaluate_model(model, testloader, device):\n",
        "    model.eval()\n",
        "    all_preds = []\n",
        "    all_labels = []\n",
        "\n",
        "    with torch.no_grad():\n",
        "        for data in testloader:\n",
        "            images, labels = data\n",
        "            images, labels = images.to(device), labels.to(device)\n",
        "            outputs = model(images)\n",
        "            _, predicted = torch.max(outputs.data, 1)\n",
        "\n",
        "            all_preds.extend(predicted.cpu().numpy())\n",
        "            all_labels.extend(labels.cpu().numpy())\n",
        "\n",
        "    accuracy = accuracy_score(all_labels, all_preds)\n",
        "    f1 = f1_score(all_labels, all_preds, average='weighted')\n",
        "\n",
        "    print(f'Accuracy: {round(accuracy, 3) * 100}%')\n",
        "    print(f'Score: {round(f1, 3)}')\n",
        "\n",
        ""
      ],
      "metadata": {
        "id": "MIZ-OAgV4mcP"
      },
      "execution_count": 7,
      "outputs": []
    },
    {
      "cell_type": "code",
      "source": [
        "#setting up and transforming a dataset/loaders\n",
        "transform = transforms.Compose(\n",
        "    [transforms.ToTensor(),\n",
        "     transforms.Normalize((0.5, 0.5, 0.5), (0.5, 0.5, 0.5))])\n",
        "\n",
        "trainset = torchvision.datasets.CIFAR10(root='./data', train=True, download=True, transform=transform)\n",
        "trainloader = torch.utils.data.DataLoader(trainset, batch_size=100, shuffle=True)\n",
        "\n",
        "testset = torchvision.datasets.CIFAR10(root='./data', train=False, download=True, transform=transform)\n",
        "testloader = torch.utils.data.DataLoader(testset, batch_size=100, shuffle=False)\n"
      ],
      "metadata": {
        "colab": {
          "base_uri": "https://localhost:8080/"
        },
        "id": "JsXSFeET43Af",
        "outputId": "f58a4d23-713a-4e7a-d294-ff818bb0a490"
      },
      "execution_count": 5,
      "outputs": [
        {
          "output_type": "stream",
          "name": "stdout",
          "text": [
            "Files already downloaded and verified\n",
            "Files already downloaded and verified\n"
          ]
        }
      ]
    },
    {
      "cell_type": "code",
      "source": [
        "#defining lenet structure\n",
        "class LeNet(nn.Module):\n",
        "\n",
        "    def __init__(self):\n",
        "        super(LeNet, self).__init__()\n",
        "        self.conv1 = nn.Conv2d(3, 6, 5)\n",
        "        self.conv2 = nn.Conv2d(6, 16, 5)\n",
        "        self.fc1 = nn.Linear(16 * 5 * 5, 120)\n",
        "        self.fc2 = nn.Linear(120, 84)\n",
        "        self.fc3 = nn.Linear(84, 10)\n",
        "\n",
        "    def forward(self, input):\n",
        "        c1 = F.relu(self.conv1(input))\n",
        "        s2 = F.max_pool2d(c1, (2, 2))\n",
        "        c3 = F.relu(self.conv2(s2))\n",
        "        s4 = F.max_pool2d(c3, 2)\n",
        "        s4 = torch.flatten(s4, 1)\n",
        "        f5 = F.relu(self.fc1(s4))\n",
        "        f6 = F.relu(self.fc2(f5))\n",
        "        output = self.fc3(f6)\n",
        "        return output"
      ],
      "metadata": {
        "id": "0gB6d6gg4hrq"
      },
      "execution_count": 8,
      "outputs": []
    },
    {
      "cell_type": "code",
      "source": [
        "model = LeNet()\n",
        "model.to(device)\n",
        "criterion = nn.CrossEntropyLoss()\n",
        "optimizer = optim.SGD(model.parameters(), lr=0.01, momentum=0.9)\n",
        "\n",
        "train_model(model, trainloader, criterion, optimizer)\n",
        "\n",
        "evaluate_model(model, testloader, device)"
      ],
      "metadata": {
        "colab": {
          "base_uri": "https://localhost:8080/"
        },
        "id": "y_qRH3en5u_N",
        "outputId": "ae970c35-ac39-40d3-b570-4108379801b5"
      },
      "execution_count": 11,
      "outputs": [
        {
          "output_type": "stream",
          "name": "stdout",
          "text": [
            "[E- 5, B- 100] loss: 1.105\n",
            "[E- 5, B- 200] loss: 1.105\n",
            "[E- 5, B- 300] loss: 1.103\n",
            "[E- 5, B- 400] loss: 1.094\n",
            "[E- 5, B- 500] loss: 1.107\n",
            "[E- 10, B- 100] loss: 0.843\n",
            "[E- 10, B- 200] loss: 0.840\n",
            "[E- 10, B- 300] loss: 0.830\n",
            "[E- 10, B- 400] loss: 0.871\n",
            "[E- 10, B- 500] loss: 0.864\n",
            "Done\n",
            "Accuracy: 63.0%\n",
            "Score: 0.629\n"
          ]
        }
      ]
    },
    {
      "cell_type": "code",
      "source": [
        "model = LeNet()\n",
        "model.to(device)\n",
        "criterion = nn.CrossEntropyLoss()\n",
        "optimizer = optim.SGD(model.parameters(), lr=0.05, momentum=0.9)\n",
        "\n",
        "train_model(model, trainloader, criterion, optimizer)\n",
        "\n",
        "evaluate_model(model, testloader, device)"
      ],
      "metadata": {
        "colab": {
          "base_uri": "https://localhost:8080/"
        },
        "id": "gYBHpYCV8lG6",
        "outputId": "1c114b2d-6fe2-4b01-e4fd-670f75bdd240"
      },
      "execution_count": 12,
      "outputs": [
        {
          "output_type": "stream",
          "name": "stdout",
          "text": [
            "[E- 5, B- 100] loss: 1.105\n",
            "[E- 5, B- 200] loss: 1.132\n",
            "[E- 5, B- 300] loss: 1.119\n",
            "[E- 5, B- 400] loss: 1.135\n",
            "[E- 5, B- 500] loss: 1.128\n",
            "[E- 10, B- 100] loss: 0.999\n",
            "[E- 10, B- 200] loss: 1.008\n",
            "[E- 10, B- 300] loss: 1.014\n",
            "[E- 10, B- 400] loss: 1.038\n",
            "[E- 10, B- 500] loss: 1.049\n",
            "Done\n",
            "Accuracy: 58.699999999999996%\n",
            "Score: 0.577\n"
          ]
        }
      ]
    },
    {
      "cell_type": "code",
      "source": [
        "class AlexNet(nn.Module):\n",
        "\n",
        "    def __init__(self):\n",
        "        super(AlexNet, self).__init__()\n",
        "        self.conv1 = nn.Conv2d(3, 64, kernel_size=3, stride=1, padding=1)\n",
        "        self.conv2 = nn.Conv2d(64, 192, kernel_size=3, padding=1)\n",
        "        self.conv3 = nn.Conv2d(192, 384, kernel_size=3, padding=1)\n",
        "        self.conv4 = nn.Conv2d(384, 256, kernel_size=3, padding=1)\n",
        "        self.conv5 = nn.Conv2d(256, 256, kernel_size=3, padding=1)\n",
        "        self.fc1 = nn.Linear(256 * 4 * 4, 4096)\n",
        "        self.fc2 = nn.Linear(4096, 4096)\n",
        "        self.fc3 = nn.Linear(4096, 10)\n",
        "        self.dropout = nn.Dropout()\n",
        "\n",
        "    def forward(self, x):\n",
        "        x = F.relu(self.conv1(x))\n",
        "        x = F.max_pool2d(x, kernel_size=2, stride=2)\n",
        "        x = F.relu(self.conv2(x))\n",
        "        x = F.max_pool2d(x, kernel_size=2, stride=2)\n",
        "        x = F.relu(self.conv3(x))\n",
        "        x = F.relu(self.conv4(x))\n",
        "        x = F.relu(self.conv5(x))\n",
        "        x = F.max_pool2d(x, kernel_size=2, stride=2)\n",
        "        x = torch.flatten(x, 1)\n",
        "        x = self.dropout(x)\n",
        "        x = F.relu(self.fc1(x))\n",
        "        x = self.dropout(x)\n",
        "        x = F.relu(self.fc2(x))\n",
        "        x = self.fc3(x)\n",
        "        return x"
      ],
      "metadata": {
        "id": "NOgQnDR29wre"
      },
      "execution_count": 13,
      "outputs": []
    },
    {
      "cell_type": "code",
      "source": [
        "#testing alexnet\n",
        "model = AlexNet()\n",
        "model.to(device)\n",
        "criterion = nn.CrossEntropyLoss()\n",
        "optimizer = optim.SGD(model.parameters(), lr=0.05, momentum=0.9)\n",
        "\n",
        "train_model(model, trainloader, criterion, optimizer)\n",
        "\n",
        "evaluate_model(model, testloader, device)"
      ],
      "metadata": {
        "colab": {
          "base_uri": "https://localhost:8080/"
        },
        "id": "E9bEfVSt9133",
        "outputId": "7a0c99bf-38a9-4a69-c3a8-7f2d1abc73dd"
      },
      "execution_count": 14,
      "outputs": [
        {
          "output_type": "stream",
          "name": "stdout",
          "text": [
            "[E- 5, B- 100] loss: 0.728\n",
            "[E- 5, B- 200] loss: 0.731\n",
            "[E- 5, B- 300] loss: 0.726\n",
            "[E- 5, B- 400] loss: 0.700\n",
            "[E- 5, B- 500] loss: 0.705\n",
            "[E- 10, B- 100] loss: 0.329\n",
            "[E- 10, B- 200] loss: 0.376\n",
            "[E- 10, B- 300] loss: 0.369\n",
            "[E- 10, B- 400] loss: 0.368\n",
            "[E- 10, B- 500] loss: 0.397\n",
            "Done\n",
            "Accuracy: 79.7%\n",
            "Score: 0.796\n"
          ]
        }
      ]
    },
    {
      "cell_type": "markdown",
      "source": [
        "TODO: Properly train the VGG thingamajig"
      ],
      "metadata": {
        "id": "WYTe4SBeiXQx"
      }
    },
    {
      "cell_type": "code",
      "source": [
        "#testing vgg\n",
        "model = torch.hub.load('pytorch/vision:v0.10.0', 'vgg11')\n",
        "model.to(device)\n",
        "criterion = nn.CrossEntropyLoss()\n",
        "optimizer = optim.SGD(model.parameters(), lr=0.01, momentum=0.9)\n",
        "\n",
        "train_model(model, trainloader, criterion, optimizer)\n",
        "\n",
        "evaluate_model(model, testloader, device)"
      ],
      "metadata": {
        "colab": {
          "base_uri": "https://localhost:8080/"
        },
        "id": "qJYoLt4F6ybu",
        "outputId": "50e945be-5557-40d7-d37d-6d28a1fbcc52"
      },
      "execution_count": null,
      "outputs": [
        {
          "output_type": "stream",
          "name": "stderr",
          "text": [
            "Using cache found in /root/.cache/torch/hub/pytorch_vision_v0.10.0\n"
          ]
        },
        {
          "output_type": "stream",
          "name": "stdout",
          "text": [
            "[E- 5, B- 100] loss: 0.756\n",
            "[E- 5, B- 200] loss: 0.758\n",
            "[E- 5, B- 300] loss: 0.766\n",
            "[E- 5, B- 400] loss: 0.720\n",
            "[E- 5, B- 500] loss: 0.756\n"
          ]
        }
      ]
    }
  ]
}